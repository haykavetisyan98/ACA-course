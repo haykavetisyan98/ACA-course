{
  "nbformat": 4,
  "nbformat_minor": 0,
  "metadata": {
    "colab": {
      "name": "Assignment3_CNNs.ipynb",
      "provenance": [],
      "collapsed_sections": []
    },
    "kernelspec": {
      "display_name": "Python 3",
      "language": "python",
      "name": "python3"
    },
    "language_info": {
      "codemirror_mode": {
        "name": "ipython",
        "version": 3
      },
      "file_extension": ".py",
      "mimetype": "text/x-python",
      "name": "python",
      "nbconvert_exporter": "python",
      "pygments_lexer": "ipython3",
      "version": "3.8.8"
    }
  },
  "cells": [
    {
      "cell_type": "markdown",
      "metadata": {
        "id": "8HVDkBsjwQem"
      },
      "source": [
        "# Warm up\n",
        "\n",
        "The code below showcases a convolutional network in Keras. It was designed to classify 100x100 rgb images into 10 classes.\n",
        "This network... quite frankly, it sucks. Can you guess what's the problem? Is there just one problem?"
      ]
    },
    {
      "cell_type": "code",
      "metadata": {
        "id": "p_4xUCOZwQe0"
      },
      "source": [
        "import keras\n",
        "import keras.layers as L\n",
        "import keras.initializers as init\n",
        "import numpy as np\n",
        "import matplotlib\n",
        "matplotlib.use('agg')\n",
        "import matplotlib.pyplot as plt"
      ],
      "execution_count": 1,
      "outputs": []
    },
    {
      "cell_type": "markdown",
      "metadata": {
        "id": "iRxcJ5q2wQe5"
      },
      "source": [
        "In this exercise you have to train a new Convolutional Neural Network from scratch for the classification of images.\n",
        "\n",
        "1. For this we will use the Keras library.\n",
        "2. The aim is to achieve 99% accuracy (on validation/test set) the MNIST dataset http://yann.lecun.com/exdb/mnist/.\n",
        "3. We have provided a basic Keras implementation of a CNN.\n",
        "4. You are allowed to do whatever you want (except copy pasting) with the network as long as it is explained in your report.\n",
        "5. Feel free to change the architecture of the network as well as parameters (e.g. learning rate, kernel sizes, ...).\n",
        "6. You can try to guess parameters manually of you want, just make sure that it performs better than 99% on the validation set.\n",
        "7. Sketch the final network architecture in your report.\n",
        "8. Make sure you train the network on the GPU, otherwise it will be too slow.\n",
        "9. Explain the plots: learning curve, accuracy wrt epoch."
      ]
    },
    {
      "cell_type": "code",
      "metadata": {
        "id": "zt0CSv39wQe5",
        "colab": {
          "base_uri": "https://localhost:8080/"
        },
        "outputId": "bc2f23df-4ed3-4c71-8af4-3f202be6263a"
      },
      "source": [
        "(x_train, y_train), (x_test, y_test) = keras.datasets.mnist.load_data()\n"
      ],
      "execution_count": 2,
      "outputs": [
        {
          "output_type": "stream",
          "text": [
            "Downloading data from https://storage.googleapis.com/tensorflow/tf-keras-datasets/mnist.npz\n",
            "11493376/11490434 [==============================] - 0s 0us/step\n"
          ],
          "name": "stdout"
        }
      ]
    },
    {
      "cell_type": "code",
      "metadata": {
        "colab": {
          "base_uri": "https://localhost:8080/"
        },
        "id": "bHeDDIoxw6FH",
        "outputId": "7e54660e-57a0-404f-c29a-1c92ccaff688"
      },
      "source": [
        "x_train = x_train.astype(\"float32\") / 255\n",
        "x_test = x_test.astype(\"float32\") / 255\n",
        "x_train = np.expand_dims(x_train, -1)\n",
        "x_test = np.expand_dims(x_test, -1)\n",
        "print(\"x_train shape:\", x_train.shape)\n",
        "print(x_train.shape[0], \"train samples\")\n",
        "print(x_test.shape[0], \"test samples\")"
      ],
      "execution_count": 3,
      "outputs": [
        {
          "output_type": "stream",
          "text": [
            "x_train shape: (60000, 28, 28, 1)\n",
            "60000 train samples\n",
            "10000 test samples\n"
          ],
          "name": "stdout"
        }
      ]
    },
    {
      "cell_type": "code",
      "metadata": {
        "id": "B-sIUP8tx2wW"
      },
      "source": [
        "y_train = keras.utils.to_categorical(y_train, 10)\n",
        "y_test = keras.utils.to_categorical(y_test, 10)"
      ],
      "execution_count": 4,
      "outputs": []
    },
    {
      "cell_type": "code",
      "metadata": {
        "id": "9ry2AuZO4UJC"
      },
      "source": [
        "net = keras.models.Sequential()\n",
        "\n",
        "net.add(L.InputLayer([28, 28, 1]))\n",
        "\n",
        "\n",
        "\n",
        "net.add(L.Conv2D(filters=16, kernel_size=(5, 5)))\n",
        "net.add(L.Activation('relu'))\n",
        "\n",
        "net.add(L.MaxPool2D(pool_size=(2,2)))\n",
        "\n",
        "net.add(L.Conv2D(filters=32, kernel_size=(3, 3)))\n",
        "net.add(L.Activation('relu'))\n",
        "\n",
        "net.add(L.MaxPool2D(pool_size=(2,2)))\n",
        "\n",
        "net.add(L.Conv2D(filters=64, kernel_size=(3, 3)))\n",
        "net.add(L.Activation('relu'))\n",
        "\n",
        "net.add(L.MaxPool2D(pool_size=(2,2)))\n",
        "\n",
        "net.add(L.Flatten()) \n",
        "\n",
        "net.add(L.Dropout(rate=0.4))\n",
        "\n",
        "net.add(L.Dense(units=10))\n",
        "net.add(L.Activation('softmax'))\n"
      ],
      "execution_count": 5,
      "outputs": []
    },
    {
      "cell_type": "code",
      "metadata": {
        "colab": {
          "base_uri": "https://localhost:8080/"
        },
        "id": "6RsiY6HSylk9",
        "outputId": "746f1af8-9e99-4c77-9197-43103a03f02c"
      },
      "source": [
        "batch_size = 64\n",
        "epochs = 14\n",
        "\n",
        "net.compile(loss=\"categorical_crossentropy\", optimizer=\"adam\", metrics=[\"accuracy\"])\n",
        "\n",
        "history = net.fit(x_train, y_train, batch_size=batch_size, epochs=epochs, validation_split=0.3)\n",
        "\n"
      ],
      "execution_count": 6,
      "outputs": [
        {
          "output_type": "stream",
          "text": [
            "Epoch 1/14\n",
            "657/657 [==============================] - 22s 32ms/step - loss: 0.9965 - accuracy: 0.6722 - val_loss: 0.1439 - val_accuracy: 0.9562\n",
            "Epoch 2/14\n",
            "657/657 [==============================] - 21s 32ms/step - loss: 0.2373 - accuracy: 0.9277 - val_loss: 0.1040 - val_accuracy: 0.9693\n",
            "Epoch 3/14\n",
            "657/657 [==============================] - 21s 33ms/step - loss: 0.1758 - accuracy: 0.9483 - val_loss: 0.0901 - val_accuracy: 0.9725\n",
            "Epoch 4/14\n",
            "657/657 [==============================] - 22s 33ms/step - loss: 0.1491 - accuracy: 0.9562 - val_loss: 0.0758 - val_accuracy: 0.9777\n",
            "Epoch 5/14\n",
            "657/657 [==============================] - 21s 33ms/step - loss: 0.1263 - accuracy: 0.9626 - val_loss: 0.0693 - val_accuracy: 0.9796\n",
            "Epoch 6/14\n",
            "657/657 [==============================] - 22s 33ms/step - loss: 0.1126 - accuracy: 0.9656 - val_loss: 0.0654 - val_accuracy: 0.9816\n",
            "Epoch 7/14\n",
            "657/657 [==============================] - 22s 33ms/step - loss: 0.1030 - accuracy: 0.9701 - val_loss: 0.0590 - val_accuracy: 0.9831\n",
            "Epoch 8/14\n",
            "657/657 [==============================] - 22s 33ms/step - loss: 0.0903 - accuracy: 0.9729 - val_loss: 0.0550 - val_accuracy: 0.9852\n",
            "Epoch 9/14\n",
            "657/657 [==============================] - 22s 33ms/step - loss: 0.0841 - accuracy: 0.9741 - val_loss: 0.0530 - val_accuracy: 0.9845\n",
            "Epoch 10/14\n",
            "657/657 [==============================] - 22s 33ms/step - loss: 0.0786 - accuracy: 0.9767 - val_loss: 0.0547 - val_accuracy: 0.9838\n",
            "Epoch 11/14\n",
            "657/657 [==============================] - 21s 32ms/step - loss: 0.0717 - accuracy: 0.9792 - val_loss: 0.0490 - val_accuracy: 0.9859\n",
            "Epoch 12/14\n",
            "657/657 [==============================] - 21s 32ms/step - loss: 0.0640 - accuracy: 0.9804 - val_loss: 0.0508 - val_accuracy: 0.9852\n",
            "Epoch 13/14\n",
            "657/657 [==============================] - 21s 33ms/step - loss: 0.0632 - accuracy: 0.9809 - val_loss: 0.0543 - val_accuracy: 0.9859\n",
            "Epoch 14/14\n",
            "657/657 [==============================] - 21s 32ms/step - loss: 0.0614 - accuracy: 0.9816 - val_loss: 0.0529 - val_accuracy: 0.9858\n"
          ],
          "name": "stdout"
        }
      ]
    },
    {
      "cell_type": "code",
      "metadata": {
        "colab": {
          "base_uri": "https://localhost:8080/",
          "height": 347
        },
        "id": "_vgbeMoABFk2",
        "outputId": "42301387-4b24-4bb9-f26b-de20b9f925ad"
      },
      "source": [
        "fig = plt.figure()\n",
        "plt.subplot(2,1,1)\n",
        "plt.plot(history.history['accuracy'])\n",
        "plt.plot(history.history['val_accuracy'])\n",
        "plt.title('model accuracy')\n",
        "plt.ylabel('accuracy')\n",
        "plt.xlabel('epoch')\n",
        "plt.legend(['train', 'test'], loc='lower right')\n",
        "\n",
        "\n",
        "plt.tight_layout()\n",
        "\n",
        "fig"
      ],
      "execution_count": 7,
      "outputs": [
        {
          "output_type": "execute_result",
          "data": {
            "image/png": "[encoded data removed]",
            "text/plain": [
              "<Figure size 432x288 with 1 Axes>"
            ]
          },
          "metadata": {
            "tags": []
          },
          "execution_count": 7
        },
        {
          "output_type": "display_data",
          "data": {
            "image/png": "[encoded data removed]",
            "text/plain": [
              "<Figure size 432x288 with 1 Axes>"
            ]
          },
          "metadata": {
            "tags": [],
            "needs_background": "light"
          }
        }
      ]
    },
    {
      "cell_type": "code",
      "metadata": {
        "colab": {
          "base_uri": "https://localhost:8080/"
        },
        "id": "ocQGCb_n8j-8",
        "outputId": "78b3c62e-e5ca-4d9e-dc9b-94549918c7a7"
      },
      "source": [
        "score = net.evaluate(x_test, y_test, verbose=0)\n",
        "print(\"Test loss:\", score[0])\n",
        "print(\"Test accuracy:\", score[1])"
      ],
      "execution_count": 8,
      "outputs": [
        {
          "output_type": "stream",
          "text": [
            "Test loss: 0.03968571871519089\n",
            "Test accuracy: 0.9894999861717224\n"
          ],
          "name": "stdout"
        }
      ]
    },
    {
      "cell_type": "code",
      "metadata": {
        "id": "yM5b8ALn2rIx"
      },
      "source": [
        ""
      ],
      "execution_count": null,
      "outputs": []
    }
  ]
}